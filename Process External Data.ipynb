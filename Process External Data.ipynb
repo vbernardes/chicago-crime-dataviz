{
 "cells": [
  {
   "cell_type": "markdown",
   "metadata": {},
   "source": [
    "# Handling External Data\n",
    "\n",
    "This notebook aims to pre-process any external data sets obtained for this project."
   ]
  },
  {
   "cell_type": "markdown",
   "metadata": {},
   "source": [
    "### Environment Setup"
   ]
  },
  {
   "cell_type": "code",
   "execution_count": 1,
   "metadata": {},
   "outputs": [],
   "source": [
    "import pandas as pd\n",
    "import numpy as np"
   ]
  },
  {
   "cell_type": "code",
   "execution_count": 2,
   "metadata": {},
   "outputs": [],
   "source": [
    "%matplotlib inline\n",
    "import matplotlib.pyplot as plt\n",
    "import seaborn; seaborn.set(style='whitegrid', rc={'axes.grid' : False})"
   ]
  },
  {
   "cell_type": "code",
   "execution_count": 3,
   "metadata": {},
   "outputs": [],
   "source": [
    "pd.options.display.max_rows = 1000"
   ]
  },
  {
   "cell_type": "markdown",
   "metadata": {},
   "source": [
    "## GDP"
   ]
  },
  {
   "cell_type": "code",
   "execution_count": 60,
   "metadata": {},
   "outputs": [
    {
     "data": {
      "text/html": [
       "<div>\n",
       "<style scoped>\n",
       "    .dataframe tbody tr th:only-of-type {\n",
       "        vertical-align: middle;\n",
       "    }\n",
       "\n",
       "    .dataframe tbody tr th {\n",
       "        vertical-align: top;\n",
       "    }\n",
       "\n",
       "    .dataframe thead th {\n",
       "        text-align: right;\n",
       "    }\n",
       "</style>\n",
       "<table border=\"1\" class=\"dataframe\">\n",
       "  <thead>\n",
       "    <tr style=\"text-align: right;\">\n",
       "      <th></th>\n",
       "      <th>GeoFIPS</th>\n",
       "      <th>GeoName</th>\n",
       "      <th>Region</th>\n",
       "      <th>TableName</th>\n",
       "      <th>ComponentName</th>\n",
       "      <th>Unit</th>\n",
       "      <th>IndustryId</th>\n",
       "      <th>IndustryClassification</th>\n",
       "      <th>Description</th>\n",
       "      <th>2005:Q1</th>\n",
       "      <th>...</th>\n",
       "      <th>2016:Q4</th>\n",
       "      <th>2017:Q1</th>\n",
       "      <th>2017:Q2</th>\n",
       "      <th>2017:Q3</th>\n",
       "      <th>2017:Q4</th>\n",
       "      <th>2018:Q1</th>\n",
       "      <th>2018:Q2</th>\n",
       "      <th>2018:Q3</th>\n",
       "      <th>2018:Q4</th>\n",
       "      <th>2019:Q1</th>\n",
       "    </tr>\n",
       "  </thead>\n",
       "  <tbody>\n",
       "    <tr>\n",
       "      <th>0</th>\n",
       "      <td>\"17000\"</td>\n",
       "      <td>Illinois</td>\n",
       "      <td>3.0</td>\n",
       "      <td>SQGDP2</td>\n",
       "      <td>Gross domestic product (GDP) by state</td>\n",
       "      <td>Millions of current dollars</td>\n",
       "      <td>1.0</td>\n",
       "      <td>...</td>\n",
       "      <td>All industry total</td>\n",
       "      <td>579326.8</td>\n",
       "      <td>...</td>\n",
       "      <td>815582.4</td>\n",
       "      <td>814756.8</td>\n",
       "      <td>820407.7</td>\n",
       "      <td>831712.3</td>\n",
       "      <td>836365.0</td>\n",
       "      <td>848780.7</td>\n",
       "      <td>857915.1</td>\n",
       "      <td>871706.1</td>\n",
       "      <td>879947.3</td>\n",
       "      <td>888232.8</td>\n",
       "    </tr>\n",
       "  </tbody>\n",
       "</table>\n",
       "<p>1 rows × 66 columns</p>\n",
       "</div>"
      ],
      "text/plain": [
       "    GeoFIPS   GeoName  Region TableName  \\\n",
       "0   \"17000\"  Illinois     3.0    SQGDP2   \n",
       "\n",
       "                           ComponentName                         Unit  \\\n",
       "0  Gross domestic product (GDP) by state  Millions of current dollars   \n",
       "\n",
       "   IndustryId IndustryClassification         Description   2005:Q1  ...  \\\n",
       "0         1.0                    ...  All industry total  579326.8  ...   \n",
       "\n",
       "    2016:Q4   2017:Q1   2017:Q2   2017:Q3   2017:Q4   2018:Q1   2018:Q2  \\\n",
       "0  815582.4  814756.8  820407.7  831712.3  836365.0  848780.7  857915.1   \n",
       "\n",
       "    2018:Q3   2018:Q4   2019:Q1  \n",
       "0  871706.1  879947.3  888232.8  \n",
       "\n",
       "[1 rows x 66 columns]"
      ]
     },
     "execution_count": 60,
     "metadata": {},
     "output_type": "execute_result"
    }
   ],
   "source": [
    "gdp_quart = pd.read_csv('data/external/SQGDP/SQGDP2_IL_2005_2019.csv')\n",
    "gdp_quart.head(1)"
   ]
  },
  {
   "cell_type": "code",
   "execution_count": 61,
   "metadata": {},
   "outputs": [
    {
     "data": {
      "text/plain": [
       "array(['All industry total', ' Private industries',\n",
       "       '   Agriculture, forestry, fishing and hunting',\n",
       "       '   Mining, quarrying, and oil and gas extraction', '   Utilities',\n",
       "       '   Construction', '   Manufacturing',\n",
       "       '     Durable goods manufacturing',\n",
       "       '     Nondurable goods manufacturing', '   Wholesale trade',\n",
       "       '   Retail trade', '   Transportation and warehousing',\n",
       "       '   Information', '   Finance and insurance',\n",
       "       '   Real estate and rental and leasing',\n",
       "       '   Professional, scientific, and technical services',\n",
       "       '   Management of companies and enterprises',\n",
       "       '   Administrative and support and waste management and remediation services',\n",
       "       '   Educational services', '   Health care and social assistance',\n",
       "       '   Arts, entertainment, and recreation',\n",
       "       '   Accommodation and food services',\n",
       "       '   Other services (except government and government enterprises)',\n",
       "       ' Government and government enterprises', nan], dtype=object)"
      ]
     },
     "execution_count": 61,
     "metadata": {},
     "output_type": "execute_result"
    }
   ],
   "source": [
    "gdp_quart.Description.unique()"
   ]
  },
  {
   "cell_type": "code",
   "execution_count": 62,
   "metadata": {},
   "outputs": [
    {
     "data": {
      "text/plain": [
       "array(['Millions of current dollars', nan], dtype=object)"
      ]
     },
     "execution_count": 62,
     "metadata": {},
     "output_type": "execute_result"
    }
   ],
   "source": [
    "gdp_quart.Unit.unique()"
   ]
  },
  {
   "cell_type": "code",
   "execution_count": 63,
   "metadata": {},
   "outputs": [],
   "source": [
    "gdp_all_ind_q = gdp_quart[gdp_quart['Description'] == 'All industry total']"
   ]
  },
  {
   "cell_type": "code",
   "execution_count": 64,
   "metadata": {},
   "outputs": [
    {
     "data": {
      "text/plain": [
       "Index(['GeoFIPS', 'GeoName', 'Region', 'TableName', 'ComponentName', 'Unit',\n",
       "       'IndustryId', 'IndustryClassification', 'Description', '2005:Q1',\n",
       "       '2005:Q2', '2005:Q3', '2005:Q4', '2006:Q1', '2006:Q2', '2006:Q3',\n",
       "       '2006:Q4', '2007:Q1', '2007:Q2', '2007:Q3', '2007:Q4', '2008:Q1',\n",
       "       '2008:Q2', '2008:Q3', '2008:Q4', '2009:Q1', '2009:Q2', '2009:Q3',\n",
       "       '2009:Q4', '2010:Q1', '2010:Q2', '2010:Q3', '2010:Q4', '2011:Q1',\n",
       "       '2011:Q2', '2011:Q3', '2011:Q4', '2012:Q1', '2012:Q2', '2012:Q3',\n",
       "       '2012:Q4', '2013:Q1', '2013:Q2', '2013:Q3', '2013:Q4', '2014:Q1',\n",
       "       '2014:Q2', '2014:Q3', '2014:Q4', '2015:Q1', '2015:Q2', '2015:Q3',\n",
       "       '2015:Q4', '2016:Q1', '2016:Q2', '2016:Q3', '2016:Q4', '2017:Q1',\n",
       "       '2017:Q2', '2017:Q3', '2017:Q4', '2018:Q1', '2018:Q2', '2018:Q3',\n",
       "       '2018:Q4', '2019:Q1'],\n",
       "      dtype='object')"
      ]
     },
     "execution_count": 64,
     "metadata": {},
     "output_type": "execute_result"
    }
   ],
   "source": [
    "gdp_all_ind_q.columns"
   ]
  },
  {
   "cell_type": "code",
   "execution_count": 65,
   "metadata": {},
   "outputs": [
    {
     "name": "stderr",
     "output_type": "stream",
     "text": [
      "/Users/vitorsb/anaconda/envs/ds/lib/python3.7/site-packages/pandas/core/frame.py:4117: SettingWithCopyWarning: \n",
      "A value is trying to be set on a copy of a slice from a DataFrame\n",
      "\n",
      "See the caveats in the documentation: http://pandas.pydata.org/pandas-docs/stable/user_guide/indexing.html#returning-a-view-versus-a-copy\n",
      "  errors=errors,\n"
     ]
    }
   ],
   "source": [
    "gdp_all_ind_q.drop(columns=['GeoFIPS', 'GeoName', 'Region', 'TableName', 'ComponentName', 'Unit', 'IndustryId', 'IndustryClassification', 'Description'], inplace=True)"
   ]
  },
  {
   "cell_type": "code",
   "execution_count": 66,
   "metadata": {},
   "outputs": [],
   "source": [
    "gdp_all_ind_q = gdp_all_ind_q.T.rename(columns={0: 'GDP'})\n",
    "gdp_all_ind_q.index = pd.to_datetime(gdp_all_ind_q.index.str.replace(':', '-'))"
   ]
  },
  {
   "cell_type": "code",
   "execution_count": 70,
   "metadata": {},
   "outputs": [
    {
     "data": {
      "text/plain": [
       "<matplotlib.axes._subplots.AxesSubplot at 0x119f82eb8>"
      ]
     },
     "execution_count": 70,
     "metadata": {},
     "output_type": "execute_result"
    },
    {
     "data": {
      "image/png": "[encoded data removed]",
      "text/plain": [
       "<Figure size 1440x360 with 1 Axes>"
      ]
     },
     "metadata": {
      "needs_background": "light"
     },
     "output_type": "display_data"
    }
   ],
   "source": [
    "gdp_all_ind_q.plot.line(figsize=(20,5))"
   ]
  },
  {
   "cell_type": "code",
   "execution_count": 71,
   "metadata": {},
   "outputs": [],
   "source": [
    "gdp_all_ind_q.to_csv('data/external/quarterly_gdp_Illinois.csv')"
   ]
  },
  {
   "cell_type": "markdown",
   "metadata": {},
   "source": [
    "## Unemployment, Per Capita Income and Poverty Level"
   ]
  },
  {
   "cell_type": "markdown",
   "metadata": {},
   "source": [
    "### For Communities\n",
    "\n",
    "#### From 2015"
   ]
  },
  {
   "cell_type": "code",
   "execution_count": 86,
   "metadata": {},
   "outputs": [
    {
     "data": {
      "text/html": [
       "<div>\n",
       "<style scoped>\n",
       "    .dataframe tbody tr th:only-of-type {\n",
       "        vertical-align: middle;\n",
       "    }\n",
       "\n",
       "    .dataframe tbody tr th {\n",
       "        vertical-align: top;\n",
       "    }\n",
       "\n",
       "    .dataframe thead th {\n",
       "        text-align: right;\n",
       "    }\n",
       "</style>\n",
       "<table border=\"1\" class=\"dataframe\">\n",
       "  <thead>\n",
       "    <tr style=\"text-align: right;\">\n",
       "      <th></th>\n",
       "      <th>Community Area Name</th>\n",
       "      <th>Below Poverty Level</th>\n",
       "      <th>Per Capita Income</th>\n",
       "      <th>Unemployment</th>\n",
       "    </tr>\n",
       "    <tr>\n",
       "      <th>Community Area</th>\n",
       "      <th></th>\n",
       "      <th></th>\n",
       "      <th></th>\n",
       "      <th></th>\n",
       "    </tr>\n",
       "  </thead>\n",
       "  <tbody>\n",
       "    <tr>\n",
       "      <th>1</th>\n",
       "      <td>Rogers Park</td>\n",
       "      <td>22.7</td>\n",
       "      <td>23714</td>\n",
       "      <td>7.5</td>\n",
       "    </tr>\n",
       "    <tr>\n",
       "      <th>2</th>\n",
       "      <td>West Ridge</td>\n",
       "      <td>15.1</td>\n",
       "      <td>21375</td>\n",
       "      <td>7.9</td>\n",
       "    </tr>\n",
       "    <tr>\n",
       "      <th>3</th>\n",
       "      <td>Uptown</td>\n",
       "      <td>22.7</td>\n",
       "      <td>32355</td>\n",
       "      <td>7.7</td>\n",
       "    </tr>\n",
       "    <tr>\n",
       "      <th>4</th>\n",
       "      <td>Lincoln Square</td>\n",
       "      <td>9.5</td>\n",
       "      <td>35503</td>\n",
       "      <td>6.8</td>\n",
       "    </tr>\n",
       "    <tr>\n",
       "      <th>5</th>\n",
       "      <td>North Center</td>\n",
       "      <td>7.1</td>\n",
       "      <td>51615</td>\n",
       "      <td>4.5</td>\n",
       "    </tr>\n",
       "  </tbody>\n",
       "</table>\n",
       "</div>"
      ],
      "text/plain": [
       "               Community Area Name  Below Poverty Level  Per Capita Income  \\\n",
       "Community Area                                                               \n",
       "1                      Rogers Park                 22.7              23714   \n",
       "2                       West Ridge                 15.1              21375   \n",
       "3                           Uptown                 22.7              32355   \n",
       "4                   Lincoln Square                  9.5              35503   \n",
       "5                     North Center                  7.1              51615   \n",
       "\n",
       "                Unemployment  \n",
       "Community Area                \n",
       "1                        7.5  \n",
       "2                        7.9  \n",
       "3                        7.7  \n",
       "4                        6.8  \n",
       "5                        4.5  "
      ]
     },
     "execution_count": 86,
     "metadata": {},
     "output_type": "execute_result"
    }
   ],
   "source": [
    "economic_comm_2015 = pd.read_csv('data/external/Public_Health_Statistics-_Selected_public_health_indicators_by_Chicago_community_area.csv')\n",
    "economic_comm_2015 = economic_comm_2015[['Community Area',\n",
    "                                         'Community Area Name',\n",
    "                                         'Below Poverty Level',\n",
    "                                         'Per Capita Income',\n",
    "                                         'Unemployment']]\n",
    "economic_comm_2015.set_index('Community Area', inplace=True)\n",
    "economic_comm_2015.head()"
   ]
  },
  {
   "cell_type": "code",
   "execution_count": 87,
   "metadata": {},
   "outputs": [],
   "source": [
    "economic_comm_2015.to_pickle('data/external/Economic_Indicators_2015.pkl')\n",
    "economic_comm_2015.to_csv('data/external/Economic_Indicators_2015.csv')"
   ]
  },
  {
   "cell_type": "markdown",
   "metadata": {},
   "source": [
    "#### From 2008–2012"
   ]
  },
  {
   "cell_type": "code",
   "execution_count": 108,
   "metadata": {},
   "outputs": [
    {
     "data": {
      "text/html": [
       "<div>\n",
       "<style scoped>\n",
       "    .dataframe tbody tr th:only-of-type {\n",
       "        vertical-align: middle;\n",
       "    }\n",
       "\n",
       "    .dataframe tbody tr th {\n",
       "        vertical-align: top;\n",
       "    }\n",
       "\n",
       "    .dataframe thead th {\n",
       "        text-align: right;\n",
       "    }\n",
       "</style>\n",
       "<table border=\"1\" class=\"dataframe\">\n",
       "  <thead>\n",
       "    <tr style=\"text-align: right;\">\n",
       "      <th></th>\n",
       "      <th>Community Area Name</th>\n",
       "      <th>Below Poverty Level</th>\n",
       "      <th>Per Capita Income</th>\n",
       "      <th>Unemployment</th>\n",
       "    </tr>\n",
       "    <tr>\n",
       "      <th>Community Area</th>\n",
       "      <th></th>\n",
       "      <th></th>\n",
       "      <th></th>\n",
       "      <th></th>\n",
       "    </tr>\n",
       "  </thead>\n",
       "  <tbody>\n",
       "    <tr>\n",
       "      <th>1.0</th>\n",
       "      <td>Rogers Park</td>\n",
       "      <td>23.6</td>\n",
       "      <td>23939</td>\n",
       "      <td>8.7</td>\n",
       "    </tr>\n",
       "    <tr>\n",
       "      <th>2.0</th>\n",
       "      <td>West Ridge</td>\n",
       "      <td>17.2</td>\n",
       "      <td>23040</td>\n",
       "      <td>8.8</td>\n",
       "    </tr>\n",
       "    <tr>\n",
       "      <th>3.0</th>\n",
       "      <td>Uptown</td>\n",
       "      <td>24.0</td>\n",
       "      <td>35787</td>\n",
       "      <td>8.9</td>\n",
       "    </tr>\n",
       "    <tr>\n",
       "      <th>4.0</th>\n",
       "      <td>Lincoln Square</td>\n",
       "      <td>10.9</td>\n",
       "      <td>37524</td>\n",
       "      <td>8.2</td>\n",
       "    </tr>\n",
       "    <tr>\n",
       "      <th>5.0</th>\n",
       "      <td>North Center</td>\n",
       "      <td>7.5</td>\n",
       "      <td>57123</td>\n",
       "      <td>5.2</td>\n",
       "    </tr>\n",
       "  </tbody>\n",
       "</table>\n",
       "</div>"
      ],
      "text/plain": [
       "               Community Area Name  Below Poverty Level  Per Capita Income  \\\n",
       "Community Area                                                               \n",
       "1.0                    Rogers Park                 23.6              23939   \n",
       "2.0                     West Ridge                 17.2              23040   \n",
       "3.0                         Uptown                 24.0              35787   \n",
       "4.0                 Lincoln Square                 10.9              37524   \n",
       "5.0                   North Center                  7.5              57123   \n",
       "\n",
       "                Unemployment  \n",
       "Community Area                \n",
       "1.0                      8.7  \n",
       "2.0                      8.8  \n",
       "3.0                      8.9  \n",
       "4.0                      8.2  \n",
       "5.0                      5.2  "
      ]
     },
     "execution_count": 108,
     "metadata": {},
     "output_type": "execute_result"
    }
   ],
   "source": [
    "economic_comm_2012 = pd.read_csv('data/external/Census_Data_-_Selected_socioeconomic_indicators_in_Chicago__2008___2012.csv')\n",
    "economic_comm_2012 = economic_comm_2012[['Community Area Number',\n",
    "                                         'COMMUNITY AREA NAME',\n",
    "                                         'PERCENT HOUSEHOLDS BELOW POVERTY',\n",
    "                                         'PER CAPITA INCOME',\n",
    "                                         'PERCENT AGED 16+ UNEMPLOYED']]\n",
    "economic_comm_2012.rename(columns = {'Community Area Number': 'Community Area',\n",
    "                                     'COMMUNITY AREA NAME': 'Community Area Name',\n",
    "                                     'PERCENT HOUSEHOLDS BELOW POVERTY': 'Below Poverty Level',\n",
    "                                     'PER CAPITA INCOME': 'Per Capita Income',\n",
    "                                     'PERCENT AGED 16+ UNEMPLOYED': 'Unemployment'},\n",
    "                         inplace=True)\n",
    "economic_comm_2012.set_index('Community Area', inplace=True)\n",
    "economic_comm_2012.head()"
   ]
  },
  {
   "cell_type": "code",
   "execution_count": 113,
   "metadata": {},
   "outputs": [],
   "source": [
    "economic_comm_2012 = economic_comm_2012[economic_comm_2012.index.notna()]\n",
    "economic_comm_2012.index = economic_comm_2012.index.astype(int)"
   ]
  },
  {
   "cell_type": "code",
   "execution_count": 116,
   "metadata": {},
   "outputs": [],
   "source": [
    "economic_comm_2012.to_pickle('data/external/Economic_Indicators_2012.pkl')\n",
    "economic_comm_2012.to_csv('data/external/Economic_Indicators_2012.csv')"
   ]
  },
  {
   "cell_type": "markdown",
   "metadata": {},
   "source": [
    "### Unemployment Time Series\n",
    "\n",
    "Unemployment data from 2009 to 2019."
   ]
  },
  {
   "cell_type": "code",
   "execution_count": 120,
   "metadata": {},
   "outputs": [
    {
     "data": {
      "text/html": [
       "<div>\n",
       "<style scoped>\n",
       "    .dataframe tbody tr th:only-of-type {\n",
       "        vertical-align: middle;\n",
       "    }\n",
       "\n",
       "    .dataframe tbody tr th {\n",
       "        vertical-align: top;\n",
       "    }\n",
       "\n",
       "    .dataframe thead th {\n",
       "        text-align: right;\n",
       "    }\n",
       "</style>\n",
       "<table border=\"1\" class=\"dataframe\">\n",
       "  <thead>\n",
       "    <tr style=\"text-align: right;\">\n",
       "      <th></th>\n",
       "      <th>CHIC917URN</th>\n",
       "    </tr>\n",
       "    <tr>\n",
       "      <th>DATE</th>\n",
       "      <th></th>\n",
       "    </tr>\n",
       "  </thead>\n",
       "  <tbody>\n",
       "    <tr>\n",
       "      <th>2001-01-01</th>\n",
       "      <td>5.3</td>\n",
       "    </tr>\n",
       "    <tr>\n",
       "      <th>2001-02-01</th>\n",
       "      <td>5.3</td>\n",
       "    </tr>\n",
       "    <tr>\n",
       "      <th>2001-03-01</th>\n",
       "      <td>5.5</td>\n",
       "    </tr>\n",
       "    <tr>\n",
       "      <th>2001-04-01</th>\n",
       "      <td>5.3</td>\n",
       "    </tr>\n",
       "    <tr>\n",
       "      <th>2001-05-01</th>\n",
       "      <td>4.9</td>\n",
       "    </tr>\n",
       "  </tbody>\n",
       "</table>\n",
       "</div>"
      ],
      "text/plain": [
       "            CHIC917URN\n",
       "DATE                  \n",
       "2001-01-01         5.3\n",
       "2001-02-01         5.3\n",
       "2001-03-01         5.5\n",
       "2001-04-01         5.3\n",
       "2001-05-01         4.9"
      ]
     },
     "execution_count": 120,
     "metadata": {},
     "output_type": "execute_result"
    }
   ],
   "source": [
    "unemp_ts = pd.read_csv('data/external/Unemployment-Chicago Area-Time Series.csv', parse_dates=True, index_col='DATE')\n",
    "unemp_ts.head()"
   ]
  },
  {
   "cell_type": "code",
   "execution_count": 121,
   "metadata": {},
   "outputs": [],
   "source": [
    "unemp_ts.rename(columns={'DATE': 'Date', 'CHIC917URN': 'Unemployment'}, inplace=True)"
   ]
  },
  {
   "cell_type": "code",
   "execution_count": 122,
   "metadata": {},
   "outputs": [
    {
     "data": {
      "image/png": "[encoded data removed]",
      "text/plain": [
       "<Figure size 1080x360 with 1 Axes>"
      ]
     },
     "metadata": {
      "needs_background": "light"
     },
     "output_type": "display_data"
    }
   ],
   "source": [
    "unemp_ts.plot(figsize=(15,5));"
   ]
  },
  {
   "cell_type": "code",
   "execution_count": 125,
   "metadata": {},
   "outputs": [],
   "source": [
    "unemp_ts.to_pickle('data/external/Unemployment-Chicago Area-Time Series.pkl')"
   ]
  },
  {
   "cell_type": "markdown",
   "metadata": {},
   "source": [
    "## House Prices"
   ]
  },
  {
   "cell_type": "markdown",
   "metadata": {},
   "source": [
    "### Convert neighborhoods into community areas"
   ]
  },
  {
   "cell_type": "code",
   "execution_count": 367,
   "metadata": {},
   "outputs": [
    {
     "data": {
      "text/html": [
       "<div>\n",
       "<style scoped>\n",
       "    .dataframe tbody tr th:only-of-type {\n",
       "        vertical-align: middle;\n",
       "    }\n",
       "\n",
       "    .dataframe tbody tr th {\n",
       "        vertical-align: top;\n",
       "    }\n",
       "\n",
       "    .dataframe thead th {\n",
       "        text-align: right;\n",
       "    }\n",
       "</style>\n",
       "<table border=\"1\" class=\"dataframe\">\n",
       "  <thead>\n",
       "    <tr style=\"text-align: right;\">\n",
       "      <th></th>\n",
       "      <th>Neighborhood</th>\n",
       "      <th>Community Name</th>\n",
       "    </tr>\n",
       "  </thead>\n",
       "  <tbody>\n",
       "    <tr>\n",
       "      <th>0</th>\n",
       "      <td>Albany Park</td>\n",
       "      <td>Albany Park</td>\n",
       "    </tr>\n",
       "    <tr>\n",
       "      <th>1</th>\n",
       "      <td>Altgeld Gardens</td>\n",
       "      <td>Riverdale</td>\n",
       "    </tr>\n",
       "    <tr>\n",
       "      <th>2</th>\n",
       "      <td>Andersonville</td>\n",
       "      <td>Edgewater</td>\n",
       "    </tr>\n",
       "    <tr>\n",
       "      <th>3</th>\n",
       "      <td>Archer Heights</td>\n",
       "      <td>Archer Heights</td>\n",
       "    </tr>\n",
       "    <tr>\n",
       "      <th>4</th>\n",
       "      <td>Armour Square</td>\n",
       "      <td>Armour Square</td>\n",
       "    </tr>\n",
       "  </tbody>\n",
       "</table>\n",
       "</div>"
      ],
      "text/plain": [
       "      Neighborhood  Community Name\n",
       "0      Albany Park     Albany Park\n",
       "1  Altgeld Gardens       Riverdale\n",
       "2    Andersonville       Edgewater\n",
       "3   Archer Heights  Archer Heights\n",
       "4    Armour Square   Armour Square"
      ]
     },
     "execution_count": 367,
     "metadata": {},
     "output_type": "execute_result"
    }
   ],
   "source": [
    "neighbor2comm1 = pd.read_csv('data/external/Neighborhood_to_Community Area.csv')\n",
    "neighbor2comm1.rename(columns={'Community Area': 'Community Name'}, inplace=True)\n",
    "neighbor2comm1.head()"
   ]
  },
  {
   "cell_type": "code",
   "execution_count": 368,
   "metadata": {},
   "outputs": [
    {
     "data": {
      "text/html": [
       "<div>\n",
       "<style scoped>\n",
       "    .dataframe tbody tr th:only-of-type {\n",
       "        vertical-align: middle;\n",
       "    }\n",
       "\n",
       "    .dataframe tbody tr th {\n",
       "        vertical-align: top;\n",
       "    }\n",
       "\n",
       "    .dataframe thead th {\n",
       "        text-align: right;\n",
       "    }\n",
       "</style>\n",
       "<table border=\"1\" class=\"dataframe\">\n",
       "  <thead>\n",
       "    <tr style=\"text-align: right;\">\n",
       "      <th></th>\n",
       "      <th>Community Area</th>\n",
       "      <th>Community Name</th>\n",
       "      <th>Neighborhoods</th>\n",
       "    </tr>\n",
       "  </thead>\n",
       "  <tbody>\n",
       "    <tr>\n",
       "      <th>0</th>\n",
       "      <td>1</td>\n",
       "      <td>Rogers Park</td>\n",
       "      <td>East Rogers Park</td>\n",
       "    </tr>\n",
       "    <tr>\n",
       "      <th>1</th>\n",
       "      <td>2</td>\n",
       "      <td>West Ridge</td>\n",
       "      <td>Arcadia Terrace,Peterson Park,West Rogers Park</td>\n",
       "    </tr>\n",
       "    <tr>\n",
       "      <th>2</th>\n",
       "      <td>3</td>\n",
       "      <td>Uptown</td>\n",
       "      <td>Buena Park,Argyle Street,Margate Park,Sheridan...</td>\n",
       "    </tr>\n",
       "    <tr>\n",
       "      <th>3</th>\n",
       "      <td>4</td>\n",
       "      <td>Lincoln Square</td>\n",
       "      <td>Ravenswood,Ravenswood Gardens,Rockwell Crossing</td>\n",
       "    </tr>\n",
       "    <tr>\n",
       "      <th>4</th>\n",
       "      <td>5</td>\n",
       "      <td>North Center</td>\n",
       "      <td>Horner Park,Roscoe Village</td>\n",
       "    </tr>\n",
       "  </tbody>\n",
       "</table>\n",
       "</div>"
      ],
      "text/plain": [
       "   Community Area  Community Name  \\\n",
       "0               1     Rogers Park   \n",
       "1               2      West Ridge   \n",
       "2               3          Uptown   \n",
       "3               4  Lincoln Square   \n",
       "4               5    North Center   \n",
       "\n",
       "                                       Neighborhoods  \n",
       "0                                   East Rogers Park  \n",
       "1     Arcadia Terrace,Peterson Park,West Rogers Park  \n",
       "2  Buena Park,Argyle Street,Margate Park,Sheridan...  \n",
       "3    Ravenswood,Ravenswood Gardens,Rockwell Crossing  \n",
       "4                         Horner Park,Roscoe Village  "
      ]
     },
     "execution_count": 368,
     "metadata": {},
     "output_type": "execute_result"
    }
   ],
   "source": [
    "neighbor2comm2 = pd.read_csv('data/external/Neighborhood_to_Community Area2.csv', sep=';')\n",
    "neighbor2comm2.head()"
   ]
  },
  {
   "cell_type": "code",
   "execution_count": 369,
   "metadata": {
    "scrolled": true
   },
   "outputs": [],
   "source": [
    "neighbor2comm2 = neighbor2comm2.join(neighbor2comm2.Neighborhoods.str.split(',', expand=True)).drop(columns=['Neighborhoods'])\n",
    "neighbor2comm2 = neighbor2comm2.melt(id_vars=['Community Area', 'Community Name'], value_vars=range(0,8), value_name='Neighborhood').drop(columns=['variable'])\n",
    "neighbor2comm2 = neighbor2comm2.dropna()"
   ]
  },
  {
   "cell_type": "code",
   "execution_count": 370,
   "metadata": {
    "scrolled": true
   },
   "outputs": [],
   "source": [
    "neighbor2comm2 = neighbor2comm2.drop(columns=['Community Area'])"
   ]
  },
  {
   "cell_type": "code",
   "execution_count": 371,
   "metadata": {},
   "outputs": [],
   "source": [
    "neighbor2comm = pd.concat([neighbor2comm1, neighbor2comm2], sort=True).sort_values('Neighborhood')"
   ]
  },
  {
   "cell_type": "code",
   "execution_count": 372,
   "metadata": {},
   "outputs": [
    {
     "data": {
      "text/html": [
       "<div>\n",
       "<style scoped>\n",
       "    .dataframe tbody tr th:only-of-type {\n",
       "        vertical-align: middle;\n",
       "    }\n",
       "\n",
       "    .dataframe tbody tr th {\n",
       "        vertical-align: top;\n",
       "    }\n",
       "\n",
       "    .dataframe thead th {\n",
       "        text-align: right;\n",
       "    }\n",
       "</style>\n",
       "<table border=\"1\" class=\"dataframe\">\n",
       "  <thead>\n",
       "    <tr style=\"text-align: right;\">\n",
       "      <th></th>\n",
       "      <th>Community Name</th>\n",
       "      <th>Neighborhood</th>\n",
       "    </tr>\n",
       "  </thead>\n",
       "  <tbody>\n",
       "    <tr>\n",
       "      <th>0</th>\n",
       "      <td>Albany Park</td>\n",
       "      <td>Albany Park</td>\n",
       "    </tr>\n",
       "    <tr>\n",
       "      <th>1</th>\n",
       "      <td>Riverdale</td>\n",
       "      <td>Altgeld Gardens</td>\n",
       "    </tr>\n",
       "    <tr>\n",
       "      <th>53</th>\n",
       "      <td>Riverdale</td>\n",
       "      <td>Altgeld Gardens</td>\n",
       "    </tr>\n",
       "    <tr>\n",
       "      <th>2</th>\n",
       "      <td>Edgewater</td>\n",
       "      <td>Andersonville</td>\n",
       "    </tr>\n",
       "    <tr>\n",
       "      <th>76</th>\n",
       "      <td>Edgewater</td>\n",
       "      <td>Andersonville</td>\n",
       "    </tr>\n",
       "  </tbody>\n",
       "</table>\n",
       "</div>"
      ],
      "text/plain": [
       "   Community Name     Neighborhood\n",
       "0     Albany Park      Albany Park\n",
       "1       Riverdale  Altgeld Gardens\n",
       "53      Riverdale  Altgeld Gardens\n",
       "2       Edgewater    Andersonville\n",
       "76      Edgewater    Andersonville"
      ]
     },
     "execution_count": 372,
     "metadata": {},
     "output_type": "execute_result"
    }
   ],
   "source": [
    "neighbor2comm.head()"
   ]
  },
  {
   "cell_type": "markdown",
   "metadata": {},
   "source": [
    "### Cleaning 'The Loop'\n",
    "\n",
    "The “Loop” community is also written as “The Loop”. Let's make sure we only use on form on the data."
   ]
  },
  {
   "cell_type": "code",
   "execution_count": 373,
   "metadata": {},
   "outputs": [],
   "source": [
    "neighbor2comm.loc[neighbor2comm['Community Name'] == 'The Loop', 'Community Name'] = 'Loop'"
   ]
  },
  {
   "cell_type": "code",
   "execution_count": 374,
   "metadata": {},
   "outputs": [
    {
     "data": {
      "text/html": [
       "<div>\n",
       "<style scoped>\n",
       "    .dataframe tbody tr th:only-of-type {\n",
       "        vertical-align: middle;\n",
       "    }\n",
       "\n",
       "    .dataframe tbody tr th {\n",
       "        vertical-align: top;\n",
       "    }\n",
       "\n",
       "    .dataframe thead th {\n",
       "        text-align: right;\n",
       "    }\n",
       "</style>\n",
       "<table border=\"1\" class=\"dataframe\">\n",
       "  <thead>\n",
       "    <tr style=\"text-align: right;\">\n",
       "      <th></th>\n",
       "      <th>Community Name</th>\n",
       "      <th>Neighborhood</th>\n",
       "    </tr>\n",
       "  </thead>\n",
       "  <tbody>\n",
       "  </tbody>\n",
       "</table>\n",
       "</div>"
      ],
      "text/plain": [
       "Empty DataFrame\n",
       "Columns: [Community Name, Neighborhood]\n",
       "Index: []"
      ]
     },
     "execution_count": 374,
     "metadata": {},
     "output_type": "execute_result"
    }
   ],
   "source": [
    "neighbor2comm.loc[neighbor2comm['Community Name'] == 'The Loop'] # should be empty"
   ]
  },
  {
   "cell_type": "code",
   "execution_count": 375,
   "metadata": {},
   "outputs": [],
   "source": [
    "neighbor2comm.drop_duplicates(inplace=True)"
   ]
  },
  {
   "cell_type": "markdown",
   "metadata": {},
   "source": [
    "### Neighborhoods with multiple communities\n",
    "\n",
    "Are there **neighborhoods** that map onto two or more **communities**?"
   ]
  },
  {
   "cell_type": "code",
   "execution_count": 376,
   "metadata": {},
   "outputs": [
    {
     "data": {
      "text/html": [
       "<div>\n",
       "<style scoped>\n",
       "    .dataframe tbody tr th:only-of-type {\n",
       "        vertical-align: middle;\n",
       "    }\n",
       "\n",
       "    .dataframe tbody tr th {\n",
       "        vertical-align: top;\n",
       "    }\n",
       "\n",
       "    .dataframe thead th {\n",
       "        text-align: right;\n",
       "    }\n",
       "</style>\n",
       "<table border=\"1\" class=\"dataframe\">\n",
       "  <thead>\n",
       "    <tr style=\"text-align: right;\">\n",
       "      <th></th>\n",
       "      <th>Community Name</th>\n",
       "    </tr>\n",
       "    <tr>\n",
       "      <th>Neighborhood</th>\n",
       "      <th></th>\n",
       "    </tr>\n",
       "  </thead>\n",
       "  <tbody>\n",
       "    <tr>\n",
       "      <th>Belmont Central</th>\n",
       "      <td>Belmont Cragin</td>\n",
       "    </tr>\n",
       "    <tr>\n",
       "      <th>Belmont Central</th>\n",
       "      <td>Portage Park</td>\n",
       "    </tr>\n",
       "    <tr>\n",
       "      <th>Belmont Gardens</th>\n",
       "      <td>Hermosa</td>\n",
       "    </tr>\n",
       "    <tr>\n",
       "      <th>Belmont Gardens</th>\n",
       "      <td>Avondale</td>\n",
       "    </tr>\n",
       "    <tr>\n",
       "      <th>Belmont Gardens</th>\n",
       "      <td>Logan Square</td>\n",
       "    </tr>\n",
       "    <tr>\n",
       "      <th>Bronzeville</th>\n",
       "      <td>Grand Boulevard</td>\n",
       "    </tr>\n",
       "    <tr>\n",
       "      <th>Bronzeville</th>\n",
       "      <td>Douglas</td>\n",
       "    </tr>\n",
       "    <tr>\n",
       "      <th>Kosciuszko Park</th>\n",
       "      <td>Avondale</td>\n",
       "    </tr>\n",
       "    <tr>\n",
       "      <th>Kosciuszko Park</th>\n",
       "      <td>Logan Square</td>\n",
       "    </tr>\n",
       "    <tr>\n",
       "      <th>Princeton Park</th>\n",
       "      <td>Roseland</td>\n",
       "    </tr>\n",
       "    <tr>\n",
       "      <th>Princeton Park</th>\n",
       "      <td>Washington Heights</td>\n",
       "    </tr>\n",
       "    <tr>\n",
       "      <th>Printer's Row</th>\n",
       "      <td>Loop</td>\n",
       "    </tr>\n",
       "    <tr>\n",
       "      <th>Printer's Row</th>\n",
       "      <td>Near South Side</td>\n",
       "    </tr>\n",
       "    <tr>\n",
       "      <th>River West</th>\n",
       "      <td>Near North Side</td>\n",
       "    </tr>\n",
       "    <tr>\n",
       "      <th>River West</th>\n",
       "      <td>West Town</td>\n",
       "    </tr>\n",
       "    <tr>\n",
       "      <th>South Loop</th>\n",
       "      <td>Loop</td>\n",
       "    </tr>\n",
       "    <tr>\n",
       "      <th>South Loop</th>\n",
       "      <td>Near South Side</td>\n",
       "    </tr>\n",
       "  </tbody>\n",
       "</table>\n",
       "</div>"
      ],
      "text/plain": [
       "                     Community Name\n",
       "Neighborhood                       \n",
       "Belmont Central      Belmont Cragin\n",
       "Belmont Central        Portage Park\n",
       "Belmont Gardens             Hermosa\n",
       "Belmont Gardens            Avondale\n",
       "Belmont Gardens        Logan Square\n",
       "Bronzeville         Grand Boulevard\n",
       "Bronzeville                 Douglas\n",
       "Kosciuszko Park            Avondale\n",
       "Kosciuszko Park        Logan Square\n",
       "Princeton Park             Roseland\n",
       "Princeton Park   Washington Heights\n",
       "Printer's Row                  Loop\n",
       "Printer's Row       Near South Side\n",
       "River West          Near North Side\n",
       "River West                West Town\n",
       "South Loop                     Loop\n",
       "South Loop          Near South Side"
      ]
     },
     "execution_count": 376,
     "metadata": {},
     "output_type": "execute_result"
    }
   ],
   "source": [
    "neighbor2comm.set_index('Neighborhood').loc[neighbor2comm.groupby('Neighborhood').size() > 1].sort_values(by='Neighborhood')"
   ]
  },
  {
   "cell_type": "markdown",
   "metadata": {},
   "source": [
    "I don't really know the best way to solve this right now.\n",
    "\n",
    "For the time being, I'll keep it as is, with each Neighborhood weighing the same on each Community."
   ]
  },
  {
   "cell_type": "code",
   "execution_count": 377,
   "metadata": {},
   "outputs": [
    {
     "data": {
      "text/html": [
       "<div>\n",
       "<style scoped>\n",
       "    .dataframe tbody tr th:only-of-type {\n",
       "        vertical-align: middle;\n",
       "    }\n",
       "\n",
       "    .dataframe tbody tr th {\n",
       "        vertical-align: top;\n",
       "    }\n",
       "\n",
       "    .dataframe thead th {\n",
       "        text-align: right;\n",
       "    }\n",
       "</style>\n",
       "<table border=\"1\" class=\"dataframe\">\n",
       "  <thead>\n",
       "    <tr style=\"text-align: right;\">\n",
       "      <th></th>\n",
       "      <th>Region Name</th>\n",
       "      <th>11 2009</th>\n",
       "      <th>12 2009</th>\n",
       "      <th>01 2010</th>\n",
       "      <th>02 2010</th>\n",
       "      <th>03 2010</th>\n",
       "      <th>04 2010</th>\n",
       "      <th>05 2010</th>\n",
       "      <th>06 2010</th>\n",
       "      <th>07 2010</th>\n",
       "      <th>...</th>\n",
       "      <th>01 2019</th>\n",
       "      <th>02 2019</th>\n",
       "      <th>03 2019</th>\n",
       "      <th>04 2019</th>\n",
       "      <th>05 2019</th>\n",
       "      <th>06 2019</th>\n",
       "      <th>07 2019</th>\n",
       "      <th>08 2019</th>\n",
       "      <th>09 2019</th>\n",
       "      <th>10 2019</th>\n",
       "    </tr>\n",
       "  </thead>\n",
       "  <tbody>\n",
       "    <tr>\n",
       "      <th>0</th>\n",
       "      <td>Near West Side</td>\n",
       "      <td>279300.0</td>\n",
       "      <td>278700.0</td>\n",
       "      <td>278600.0</td>\n",
       "      <td>279700.0</td>\n",
       "      <td>278900.0</td>\n",
       "      <td>275600.0</td>\n",
       "      <td>274200.0</td>\n",
       "      <td>273200.0</td>\n",
       "      <td>270300.0</td>\n",
       "      <td>...</td>\n",
       "      <td>362300</td>\n",
       "      <td>364600</td>\n",
       "      <td>367000</td>\n",
       "      <td>364400</td>\n",
       "      <td>360500</td>\n",
       "      <td>361100</td>\n",
       "      <td>361800</td>\n",
       "      <td>361300</td>\n",
       "      <td>360600</td>\n",
       "      <td>359800</td>\n",
       "    </tr>\n",
       "    <tr>\n",
       "      <th>1</th>\n",
       "      <td>Albany Park</td>\n",
       "      <td>218100.0</td>\n",
       "      <td>215300.0</td>\n",
       "      <td>210500.0</td>\n",
       "      <td>209800.0</td>\n",
       "      <td>209600.0</td>\n",
       "      <td>206300.0</td>\n",
       "      <td>203300.0</td>\n",
       "      <td>204000.0</td>\n",
       "      <td>203300.0</td>\n",
       "      <td>...</td>\n",
       "      <td>265500</td>\n",
       "      <td>267500</td>\n",
       "      <td>268100</td>\n",
       "      <td>266700</td>\n",
       "      <td>265100</td>\n",
       "      <td>264400</td>\n",
       "      <td>263600</td>\n",
       "      <td>262700</td>\n",
       "      <td>262200</td>\n",
       "      <td>262400</td>\n",
       "    </tr>\n",
       "    <tr>\n",
       "      <th>2</th>\n",
       "      <td>Andersonville</td>\n",
       "      <td>280300.0</td>\n",
       "      <td>281600.0</td>\n",
       "      <td>282800.0</td>\n",
       "      <td>283500.0</td>\n",
       "      <td>283300.0</td>\n",
       "      <td>282400.0</td>\n",
       "      <td>281600.0</td>\n",
       "      <td>279400.0</td>\n",
       "      <td>275500.0</td>\n",
       "      <td>...</td>\n",
       "      <td>320100</td>\n",
       "      <td>319800</td>\n",
       "      <td>320600</td>\n",
       "      <td>321200</td>\n",
       "      <td>322100</td>\n",
       "      <td>323000</td>\n",
       "      <td>323500</td>\n",
       "      <td>322200</td>\n",
       "      <td>321600</td>\n",
       "      <td>322200</td>\n",
       "    </tr>\n",
       "    <tr>\n",
       "      <th>3</th>\n",
       "      <td>Arcadia Terrace</td>\n",
       "      <td>264600.0</td>\n",
       "      <td>263800.0</td>\n",
       "      <td>264000.0</td>\n",
       "      <td>265400.0</td>\n",
       "      <td>264700.0</td>\n",
       "      <td>261800.0</td>\n",
       "      <td>258700.0</td>\n",
       "      <td>254800.0</td>\n",
       "      <td>248400.0</td>\n",
       "      <td>...</td>\n",
       "      <td>320100</td>\n",
       "      <td>322700</td>\n",
       "      <td>323200</td>\n",
       "      <td>321200</td>\n",
       "      <td>318800</td>\n",
       "      <td>315200</td>\n",
       "      <td>311400</td>\n",
       "      <td>309100</td>\n",
       "      <td>308300</td>\n",
       "      <td>309100</td>\n",
       "    </tr>\n",
       "    <tr>\n",
       "      <th>4</th>\n",
       "      <td>Archer Heights</td>\n",
       "      <td>157600.0</td>\n",
       "      <td>155800.0</td>\n",
       "      <td>154900.0</td>\n",
       "      <td>155300.0</td>\n",
       "      <td>154800.0</td>\n",
       "      <td>153000.0</td>\n",
       "      <td>152100.0</td>\n",
       "      <td>151700.0</td>\n",
       "      <td>150600.0</td>\n",
       "      <td>...</td>\n",
       "      <td>174000</td>\n",
       "      <td>175100</td>\n",
       "      <td>176200</td>\n",
       "      <td>176700</td>\n",
       "      <td>176500</td>\n",
       "      <td>175600</td>\n",
       "      <td>174900</td>\n",
       "      <td>174900</td>\n",
       "      <td>175900</td>\n",
       "      <td>177500</td>\n",
       "    </tr>\n",
       "  </tbody>\n",
       "</table>\n",
       "<p>5 rows × 121 columns</p>\n",
       "</div>"
      ],
      "text/plain": [
       "       Region Name   11 2009   12 2009   01 2010   02 2010   03 2010  \\\n",
       "0   Near West Side  279300.0  278700.0  278600.0  279700.0  278900.0   \n",
       "1      Albany Park  218100.0  215300.0  210500.0  209800.0  209600.0   \n",
       "2    Andersonville  280300.0  281600.0  282800.0  283500.0  283300.0   \n",
       "3  Arcadia Terrace  264600.0  263800.0  264000.0  265400.0  264700.0   \n",
       "4   Archer Heights  157600.0  155800.0  154900.0  155300.0  154800.0   \n",
       "\n",
       "    04 2010   05 2010   06 2010   07 2010  ...  01 2019  02 2019  03 2019  \\\n",
       "0  275600.0  274200.0  273200.0  270300.0  ...   362300   364600   367000   \n",
       "1  206300.0  203300.0  204000.0  203300.0  ...   265500   267500   268100   \n",
       "2  282400.0  281600.0  279400.0  275500.0  ...   320100   319800   320600   \n",
       "3  261800.0  258700.0  254800.0  248400.0  ...   320100   322700   323200   \n",
       "4  153000.0  152100.0  151700.0  150600.0  ...   174000   175100   176200   \n",
       "\n",
       "   04 2019  05 2019  06 2019  07 2019  08 2019  09 2019  10 2019  \n",
       "0   364400   360500   361100   361800   361300   360600   359800  \n",
       "1   266700   265100   264400   263600   262700   262200   262400  \n",
       "2   321200   322100   323000   323500   322200   321600   322200  \n",
       "3   321200   318800   315200   311400   309100   308300   309100  \n",
       "4   176700   176500   175600   174900   174900   175900   177500  \n",
       "\n",
       "[5 rows x 121 columns]"
      ]
     },
     "execution_count": 377,
     "metadata": {},
     "output_type": "execute_result"
    }
   ],
   "source": [
    "house_prices = pd.read_csv('data/external/ChicagoHousePrices.csv', sep=';')\n",
    "house_prices.head()"
   ]
  },
  {
   "cell_type": "code",
   "execution_count": 378,
   "metadata": {},
   "outputs": [],
   "source": [
    "house_prices = house_prices.melt(id_vars='Region Name', var_name='Month', value_name='Price')\n",
    "house_prices.rename(columns={'Region Name': 'Neighborhood'}, inplace=True)\n",
    "house_prices['Month'] = house_prices['Month'].map(lambda x: pd.to_datetime(x, format='%m %Y'))"
   ]
  },
  {
   "cell_type": "code",
   "execution_count": 379,
   "metadata": {},
   "outputs": [
    {
     "data": {
      "text/html": [
       "<div>\n",
       "<style scoped>\n",
       "    .dataframe tbody tr th:only-of-type {\n",
       "        vertical-align: middle;\n",
       "    }\n",
       "\n",
       "    .dataframe tbody tr th {\n",
       "        vertical-align: top;\n",
       "    }\n",
       "\n",
       "    .dataframe thead th {\n",
       "        text-align: right;\n",
       "    }\n",
       "</style>\n",
       "<table border=\"1\" class=\"dataframe\">\n",
       "  <thead>\n",
       "    <tr style=\"text-align: right;\">\n",
       "      <th></th>\n",
       "      <th>Neighborhood</th>\n",
       "      <th>Month</th>\n",
       "      <th>Price</th>\n",
       "    </tr>\n",
       "  </thead>\n",
       "  <tbody>\n",
       "    <tr>\n",
       "      <th>0</th>\n",
       "      <td>Near West Side</td>\n",
       "      <td>2009-11-01</td>\n",
       "      <td>279300.0</td>\n",
       "    </tr>\n",
       "    <tr>\n",
       "      <th>1</th>\n",
       "      <td>Albany Park</td>\n",
       "      <td>2009-11-01</td>\n",
       "      <td>218100.0</td>\n",
       "    </tr>\n",
       "    <tr>\n",
       "      <th>2</th>\n",
       "      <td>Andersonville</td>\n",
       "      <td>2009-11-01</td>\n",
       "      <td>280300.0</td>\n",
       "    </tr>\n",
       "    <tr>\n",
       "      <th>3</th>\n",
       "      <td>Arcadia Terrace</td>\n",
       "      <td>2009-11-01</td>\n",
       "      <td>264600.0</td>\n",
       "    </tr>\n",
       "    <tr>\n",
       "      <th>4</th>\n",
       "      <td>Archer Heights</td>\n",
       "      <td>2009-11-01</td>\n",
       "      <td>157600.0</td>\n",
       "    </tr>\n",
       "    <tr>\n",
       "      <th>...</th>\n",
       "      <td>...</td>\n",
       "      <td>...</td>\n",
       "      <td>...</td>\n",
       "    </tr>\n",
       "    <tr>\n",
       "      <th>15475</th>\n",
       "      <td>Wildwood</td>\n",
       "      <td>2019-10-01</td>\n",
       "      <td>414200.0</td>\n",
       "    </tr>\n",
       "    <tr>\n",
       "      <th>15476</th>\n",
       "      <td>Woodlawn</td>\n",
       "      <td>2019-10-01</td>\n",
       "      <td>161100.0</td>\n",
       "    </tr>\n",
       "    <tr>\n",
       "      <th>15477</th>\n",
       "      <td>Wrightwood</td>\n",
       "      <td>2019-10-01</td>\n",
       "      <td>178500.0</td>\n",
       "    </tr>\n",
       "    <tr>\n",
       "      <th>15478</th>\n",
       "      <td>Wrightwood Neighbors</td>\n",
       "      <td>2019-10-01</td>\n",
       "      <td>527100.0</td>\n",
       "    </tr>\n",
       "    <tr>\n",
       "      <th>15479</th>\n",
       "      <td>Wrigleyville</td>\n",
       "      <td>2019-10-01</td>\n",
       "      <td>437600.0</td>\n",
       "    </tr>\n",
       "  </tbody>\n",
       "</table>\n",
       "<p>15480 rows × 3 columns</p>\n",
       "</div>"
      ],
      "text/plain": [
       "               Neighborhood      Month     Price\n",
       "0            Near West Side 2009-11-01  279300.0\n",
       "1               Albany Park 2009-11-01  218100.0\n",
       "2             Andersonville 2009-11-01  280300.0\n",
       "3           Arcadia Terrace 2009-11-01  264600.0\n",
       "4            Archer Heights 2009-11-01  157600.0\n",
       "...                     ...        ...       ...\n",
       "15475              Wildwood 2019-10-01  414200.0\n",
       "15476              Woodlawn 2019-10-01  161100.0\n",
       "15477            Wrightwood 2019-10-01  178500.0\n",
       "15478  Wrightwood Neighbors 2019-10-01  527100.0\n",
       "15479          Wrigleyville 2019-10-01  437600.0\n",
       "\n",
       "[15480 rows x 3 columns]"
      ]
     },
     "execution_count": 379,
     "metadata": {},
     "output_type": "execute_result"
    }
   ],
   "source": [
    "house_prices"
   ]
  },
  {
   "cell_type": "code",
   "execution_count": 380,
   "metadata": {},
   "outputs": [],
   "source": [
    "def neigh2comm(neighborhood, map_df = neighbor2comm):\n",
    "    '''Convert neighborhood into its Community Area.\n",
    "    If there's more than 1 Community Area, return the first value.\n",
    "    If the Community Area doesn't exist, return None.'''\n",
    "    comm_names = map_df[map_df.Neighborhood == neighborhood]['Community Name'].values\n",
    "    if comm_names.size == 0:\n",
    "        return None\n",
    "    else:\n",
    "        return comm_names[0]"
   ]
  },
  {
   "cell_type": "code",
   "execution_count": 381,
   "metadata": {},
   "outputs": [],
   "source": [
    "house_prices['Community Name'] = house_prices['Neighborhood'].map(neigh2comm)"
   ]
  },
  {
   "cell_type": "code",
   "execution_count": 382,
   "metadata": {},
   "outputs": [
    {
     "data": {
      "text/html": [
       "<div>\n",
       "<style scoped>\n",
       "    .dataframe tbody tr th:only-of-type {\n",
       "        vertical-align: middle;\n",
       "    }\n",
       "\n",
       "    .dataframe tbody tr th {\n",
       "        vertical-align: top;\n",
       "    }\n",
       "\n",
       "    .dataframe thead th {\n",
       "        text-align: right;\n",
       "    }\n",
       "</style>\n",
       "<table border=\"1\" class=\"dataframe\">\n",
       "  <thead>\n",
       "    <tr style=\"text-align: right;\">\n",
       "      <th></th>\n",
       "      <th>Neighborhood</th>\n",
       "      <th>Month</th>\n",
       "      <th>Price</th>\n",
       "      <th>Community Name</th>\n",
       "    </tr>\n",
       "  </thead>\n",
       "  <tbody>\n",
       "    <tr>\n",
       "      <th>0</th>\n",
       "      <td>Near West Side</td>\n",
       "      <td>2009-11-01</td>\n",
       "      <td>279300.0</td>\n",
       "      <td>Near West Side</td>\n",
       "    </tr>\n",
       "    <tr>\n",
       "      <th>1</th>\n",
       "      <td>Albany Park</td>\n",
       "      <td>2009-11-01</td>\n",
       "      <td>218100.0</td>\n",
       "      <td>Albany Park</td>\n",
       "    </tr>\n",
       "    <tr>\n",
       "      <th>2</th>\n",
       "      <td>Andersonville</td>\n",
       "      <td>2009-11-01</td>\n",
       "      <td>280300.0</td>\n",
       "      <td>Edgewater</td>\n",
       "    </tr>\n",
       "    <tr>\n",
       "      <th>3</th>\n",
       "      <td>Arcadia Terrace</td>\n",
       "      <td>2009-11-01</td>\n",
       "      <td>264600.0</td>\n",
       "      <td>West Ridge</td>\n",
       "    </tr>\n",
       "    <tr>\n",
       "      <th>4</th>\n",
       "      <td>Archer Heights</td>\n",
       "      <td>2009-11-01</td>\n",
       "      <td>157600.0</td>\n",
       "      <td>Archer Heights</td>\n",
       "    </tr>\n",
       "  </tbody>\n",
       "</table>\n",
       "</div>"
      ],
      "text/plain": [
       "      Neighborhood      Month     Price  Community Name\n",
       "0   Near West Side 2009-11-01  279300.0  Near West Side\n",
       "1      Albany Park 2009-11-01  218100.0     Albany Park\n",
       "2    Andersonville 2009-11-01  280300.0       Edgewater\n",
       "3  Arcadia Terrace 2009-11-01  264600.0      West Ridge\n",
       "4   Archer Heights 2009-11-01  157600.0  Archer Heights"
      ]
     },
     "execution_count": 382,
     "metadata": {},
     "output_type": "execute_result"
    }
   ],
   "source": [
    "house_prices.head()"
   ]
  },
  {
   "cell_type": "markdown",
   "metadata": {},
   "source": [
    "Check which neighborhoods didn't map into community names."
   ]
  },
  {
   "cell_type": "code",
   "execution_count": 383,
   "metadata": {},
   "outputs": [
    {
     "data": {
      "text/plain": [
       "array(['Clearing', 'East Ukrainian Village', 'Kelvin Park',\n",
       "       'Lathrop Homes', 'Near North', 'Printers Row',\n",
       "       'University Village - Little Italy', 'West De Paul'], dtype=object)"
      ]
     },
     "execution_count": 383,
     "metadata": {},
     "output_type": "execute_result"
    }
   ],
   "source": [
    "# check which neighborhoods didn't map into community names\n",
    "neighborhoods_without_comms = house_prices[house_prices['Community Name'].isna()]['Neighborhood'].unique()\n",
    "neighborhoods_without_comms"
   ]
  },
  {
   "cell_type": "code",
   "execution_count": 384,
   "metadata": {
    "scrolled": true
   },
   "outputs": [
    {
     "name": "stdout",
     "output_type": "stream",
     "text": [
      "   Community Name      Neighborhood\n",
      "38       Clearing  Chrysler Village\n",
      "40       Clearing     Clearing East\n",
      "41       Clearing     Clearing West\n",
      "Empty DataFrame\n",
      "Columns: [Community Name, Neighborhood]\n",
      "Index: []\n",
      "Empty DataFrame\n",
      "Columns: [Community Name, Neighborhood]\n",
      "Index: []\n",
      "Empty DataFrame\n",
      "Columns: [Community Name, Neighborhood]\n",
      "Index: []\n",
      "      Community Name      Neighborhood\n",
      "7    Near North Side     Cabrini–Green\n",
      "74   Near North Side        Gold Coast\n",
      "161  Near North Side      Goose Island\n",
      "124  Near North Side  Magnificent Mile\n",
      "137  Near North Side   Near North Side\n",
      "157  Near North Side          Old Town\n",
      "180  Near North Side       River North\n",
      "469  Near North Side        River West\n",
      "546  Near North Side     Streeterville\n",
      "84   Near North Side    The Gold Coast\n",
      "Empty DataFrame\n",
      "Columns: [Community Name, Neighborhood]\n",
      "Index: []\n",
      "Empty DataFrame\n",
      "Columns: [Community Name, Neighborhood]\n",
      "Index: []\n",
      "Empty DataFrame\n",
      "Columns: [Community Name, Neighborhood]\n",
      "Index: []\n"
     ]
    }
   ],
   "source": [
    "for neigh in neighborhoods_without_comms:\n",
    "    print(neighbor2comm[neighbor2comm['Community Name'].str.contains(neigh)])"
   ]
  },
  {
   "cell_type": "markdown",
   "metadata": {},
   "source": [
    "So it seems that **Clearing** and **Near North Side** are listed as neighborhoods but are actually Community Areas. Also, **Near North** looks like it is the same as **Near North Side**.\n",
    "\n",
    "Let's add these manually."
   ]
  },
  {
   "cell_type": "code",
   "execution_count": 385,
   "metadata": {},
   "outputs": [],
   "source": [
    "comms_as_neighborhoods = ['Clearing', 'Near North Side', 'Near North']\n",
    "for comm in comms_as_neighborhoods:\n",
    "    name_to_repl = comm\n",
    "    if comm == 'Near North':\n",
    "        name_to_repl = 'Near North Side'\n",
    "    house_prices.loc[house_prices['Neighborhood'] == comm, 'Community Name'] = name_to_repl"
   ]
  },
  {
   "cell_type": "code",
   "execution_count": 386,
   "metadata": {},
   "outputs": [
    {
     "data": {
      "text/plain": [
       "240"
      ]
     },
     "execution_count": 386,
     "metadata": {},
     "output_type": "execute_result"
    }
   ],
   "source": [
    "len(house_prices[house_prices['Neighborhood'].isin(comms_as_neighborhoods)])"
   ]
  },
  {
   "cell_type": "markdown",
   "metadata": {},
   "source": [
    "We added back **240** usable rows to our data."
   ]
  },
  {
   "cell_type": "code",
   "execution_count": 387,
   "metadata": {},
   "outputs": [],
   "source": [
    "# add back Community Area ID\n",
    "# house_prices['Community Area']\n",
    "comm_areas_id = pd.read_csv('data/external/Neighborhood_to_Community Area2.csv',\n",
    "                            sep=';',\n",
    "                            usecols=['Community Name', 'Community Area'],\n",
    "                            index_col='Community Name')"
   ]
  },
  {
   "cell_type": "code",
   "execution_count": 388,
   "metadata": {},
   "outputs": [],
   "source": [
    "house_prices = house_prices.join(comm_areas_id, on='Community Name')"
   ]
  },
  {
   "cell_type": "code",
   "execution_count": 389,
   "metadata": {},
   "outputs": [
    {
     "data": {
      "text/html": [
       "<div>\n",
       "<style scoped>\n",
       "    .dataframe tbody tr th:only-of-type {\n",
       "        vertical-align: middle;\n",
       "    }\n",
       "\n",
       "    .dataframe tbody tr th {\n",
       "        vertical-align: top;\n",
       "    }\n",
       "\n",
       "    .dataframe thead th {\n",
       "        text-align: right;\n",
       "    }\n",
       "</style>\n",
       "<table border=\"1\" class=\"dataframe\">\n",
       "  <thead>\n",
       "    <tr style=\"text-align: right;\">\n",
       "      <th></th>\n",
       "      <th>Neighborhood</th>\n",
       "      <th>Month</th>\n",
       "      <th>Price</th>\n",
       "      <th>Community Name</th>\n",
       "      <th>Community Area</th>\n",
       "    </tr>\n",
       "  </thead>\n",
       "  <tbody>\n",
       "    <tr>\n",
       "      <th>0</th>\n",
       "      <td>Near West Side</td>\n",
       "      <td>2009-11-01</td>\n",
       "      <td>279300.0</td>\n",
       "      <td>Near West Side</td>\n",
       "      <td>28.0</td>\n",
       "    </tr>\n",
       "    <tr>\n",
       "      <th>1</th>\n",
       "      <td>Albany Park</td>\n",
       "      <td>2009-11-01</td>\n",
       "      <td>218100.0</td>\n",
       "      <td>Albany Park</td>\n",
       "      <td>14.0</td>\n",
       "    </tr>\n",
       "    <tr>\n",
       "      <th>2</th>\n",
       "      <td>Andersonville</td>\n",
       "      <td>2009-11-01</td>\n",
       "      <td>280300.0</td>\n",
       "      <td>Edgewater</td>\n",
       "      <td>77.0</td>\n",
       "    </tr>\n",
       "    <tr>\n",
       "      <th>3</th>\n",
       "      <td>Arcadia Terrace</td>\n",
       "      <td>2009-11-01</td>\n",
       "      <td>264600.0</td>\n",
       "      <td>West Ridge</td>\n",
       "      <td>2.0</td>\n",
       "    </tr>\n",
       "    <tr>\n",
       "      <th>4</th>\n",
       "      <td>Archer Heights</td>\n",
       "      <td>2009-11-01</td>\n",
       "      <td>157600.0</td>\n",
       "      <td>Archer Heights</td>\n",
       "      <td>57.0</td>\n",
       "    </tr>\n",
       "  </tbody>\n",
       "</table>\n",
       "</div>"
      ],
      "text/plain": [
       "      Neighborhood      Month     Price  Community Name  Community Area\n",
       "0   Near West Side 2009-11-01  279300.0  Near West Side            28.0\n",
       "1      Albany Park 2009-11-01  218100.0     Albany Park            14.0\n",
       "2    Andersonville 2009-11-01  280300.0       Edgewater            77.0\n",
       "3  Arcadia Terrace 2009-11-01  264600.0      West Ridge             2.0\n",
       "4   Archer Heights 2009-11-01  157600.0  Archer Heights            57.0"
      ]
     },
     "execution_count": 389,
     "metadata": {},
     "output_type": "execute_result"
    }
   ],
   "source": [
    "house_prices.head()"
   ]
  },
  {
   "cell_type": "code",
   "execution_count": 390,
   "metadata": {},
   "outputs": [],
   "source": [
    "avg_house_prices = house_prices.groupby(['Month', 'Community Name']).mean()\n",
    "avg_house_prices.rename(columns={'Price': 'Avg Price'}, inplace=True)"
   ]
  },
  {
   "cell_type": "code",
   "execution_count": 391,
   "metadata": {},
   "outputs": [
    {
     "data": {
      "text/html": [
       "<div>\n",
       "<style scoped>\n",
       "    .dataframe tbody tr th:only-of-type {\n",
       "        vertical-align: middle;\n",
       "    }\n",
       "\n",
       "    .dataframe tbody tr th {\n",
       "        vertical-align: top;\n",
       "    }\n",
       "\n",
       "    .dataframe thead th {\n",
       "        text-align: right;\n",
       "    }\n",
       "</style>\n",
       "<table border=\"1\" class=\"dataframe\">\n",
       "  <thead>\n",
       "    <tr style=\"text-align: right;\">\n",
       "      <th></th>\n",
       "      <th></th>\n",
       "      <th>Avg Price</th>\n",
       "      <th>Community Area</th>\n",
       "    </tr>\n",
       "    <tr>\n",
       "      <th>Month</th>\n",
       "      <th>Community Name</th>\n",
       "      <th></th>\n",
       "      <th></th>\n",
       "    </tr>\n",
       "  </thead>\n",
       "  <tbody>\n",
       "    <tr>\n",
       "      <th rowspan=\"5\" valign=\"top\">2009-11-01</th>\n",
       "      <th>Albany Park</th>\n",
       "      <td>286175.0</td>\n",
       "      <td>14.0</td>\n",
       "    </tr>\n",
       "    <tr>\n",
       "      <th>Archer Heights</th>\n",
       "      <td>157600.0</td>\n",
       "      <td>57.0</td>\n",
       "    </tr>\n",
       "    <tr>\n",
       "      <th>Armour Square</th>\n",
       "      <td>217700.0</td>\n",
       "      <td>34.0</td>\n",
       "    </tr>\n",
       "    <tr>\n",
       "      <th>Ashburn</th>\n",
       "      <td>150825.0</td>\n",
       "      <td>70.0</td>\n",
       "    </tr>\n",
       "    <tr>\n",
       "      <th>Austin</th>\n",
       "      <td>169800.0</td>\n",
       "      <td>25.0</td>\n",
       "    </tr>\n",
       "  </tbody>\n",
       "</table>\n",
       "</div>"
      ],
      "text/plain": [
       "                           Avg Price  Community Area\n",
       "Month      Community Name                           \n",
       "2009-11-01 Albany Park      286175.0            14.0\n",
       "           Archer Heights   157600.0            57.0\n",
       "           Armour Square    217700.0            34.0\n",
       "           Ashburn          150825.0            70.0\n",
       "           Austin           169800.0            25.0"
      ]
     },
     "execution_count": 391,
     "metadata": {},
     "output_type": "execute_result"
    }
   ],
   "source": [
    "avg_house_prices.head()"
   ]
  },
  {
   "cell_type": "code",
   "execution_count": 393,
   "metadata": {},
   "outputs": [
    {
     "data": {
      "text/plain": [
       "array([60])"
      ]
     },
     "execution_count": 393,
     "metadata": {},
     "output_type": "execute_result"
    }
   ],
   "source": [
    "avg_house_prices.groupby('Month').size().unique()"
   ]
  },
  {
   "cell_type": "markdown",
   "metadata": {},
   "source": [
    "From the above, we can see we have House Price data for only 60 communities."
   ]
  },
  {
   "cell_type": "code",
   "execution_count": 394,
   "metadata": {},
   "outputs": [],
   "source": [
    "avg_house_prices.to_csv('data/external/avg_house_prices_per_community.csv')"
   ]
  },
  {
   "cell_type": "markdown",
   "metadata": {},
   "source": [
    "## Population of each community area"
   ]
  },
  {
   "cell_type": "code",
   "execution_count": 75,
   "metadata": {},
   "outputs": [],
   "source": [
    "pop_comm = pd.read_csv('data/external/Population_by_Community_Area.csv', sep=';', index_col='Community Area')\n",
    "pop_comm.to_pickle('data/external/Population_by_Community_Area.pkl')"
   ]
  }
 ],
 "metadata": {
  "kernelspec": {
   "display_name": "Python 3",
   "language": "python",
   "name": "python3"
  },
  "language_info": {
   "codemirror_mode": {
    "name": "ipython",
    "version": 3
   },
   "file_extension": ".py",
   "mimetype": "text/x-python",
   "name": "python",
   "nbconvert_exporter": "python",
   "pygments_lexer": "ipython3",
   "version": "3.7.3"
  }
 },
 "nbformat": 4,
 "nbformat_minor": 4
}
